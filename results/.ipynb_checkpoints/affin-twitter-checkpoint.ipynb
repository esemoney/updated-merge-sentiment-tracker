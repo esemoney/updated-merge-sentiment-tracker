{
 "cells": [
  {
   "cell_type": "code",
   "execution_count": 1,
   "id": "01c6c48a",
   "metadata": {},
   "outputs": [],
   "source": [
    "import tweepy"
   ]
  },
  {
   "cell_type": "code",
   "execution_count": 2,
   "id": "81b3631b",
   "metadata": {},
   "outputs": [],
   "source": [
    "import os"
   ]
  },
  {
   "cell_type": "code",
   "execution_count": 4,
   "id": "dd4ac55f",
   "metadata": {},
   "outputs": [],
   "source": [
    "from dotenv import load_dotenv\n"
   ]
  },
  {
   "cell_type": "code",
   "execution_count": 6,
   "id": "8b821462",
   "metadata": {},
   "outputs": [
    {
     "data": {
      "text/plain": [
       "True"
      ]
     },
     "execution_count": 6,
     "metadata": {},
     "output_type": "execute_result"
    }
   ],
   "source": [
    "load_dotenv()"
   ]
  },
  {
   "cell_type": "code",
   "execution_count": 7,
   "id": "74caf399",
   "metadata": {},
   "outputs": [
    {
     "data": {
      "text/plain": [
       "True"
      ]
     },
     "execution_count": 7,
     "metadata": {},
     "output_type": "execute_result"
    }
   ],
   "source": [
    "load_dotenv(verbose=True)"
   ]
  },
  {
   "cell_type": "code",
   "execution_count": 8,
   "id": "5437eab8",
   "metadata": {
    "scrolled": true
   },
   "outputs": [
    {
     "name": "stdout",
     "output_type": "stream",
     "text": [
      "ZaquVM7hrKSVp3fK6z3eAu4cn\n"
     ]
    }
   ],
   "source": [
    "print(os.environ.get('CONSUMER_KEY'))"
   ]
  },
  {
   "cell_type": "code",
   "execution_count": 11,
   "id": "55b02e9f",
   "metadata": {},
   "outputs": [],
   "source": [
    "#keys and tokens for api authentification\n",
    "CONSUMER_KEY = os.environ.get('CONSUMER_KEY')\n",
    "CONSUMER_SECRET = os.environ.get('CONSUMER_SECRET')\n",
    "ACCESS_KEY = os.environ.get('ACCESS_KEY') \n",
    "ACCESS_SECRET = os.environ.get('ACCESS_SECRET')"
   ]
  },
  {
   "cell_type": "code",
   "execution_count": 12,
   "id": "e6c406a9",
   "metadata": {},
   "outputs": [
    {
     "name": "stdout",
     "output_type": "stream",
     "text": [
      "Successful Authentication\n"
     ]
    }
   ],
   "source": [
    "auth = tweepy.OAuthHandler(CONSUMER_KEY, CONSUMER_SECRET)\n",
    "auth.set_access_token(ACCESS_KEY, ACCESS_SECRET)\n",
    "api = tweepy.API(auth)\n",
    "\n",
    "# verify that the authentification has been carried out properly\n",
    "try:\n",
    "    api.verify_credentials()\n",
    "    print('Successful Authentication')\n",
    "except:\n",
    "    print('Failed authentication')"
   ]
  },
  {
   "cell_type": "markdown",
   "id": "472a9500",
   "metadata": {},
   "source": [
    "# next, get data"
   ]
  },
  {
   "cell_type": "code",
   "execution_count": null,
   "id": "a22f9559",
   "metadata": {},
   "outputs": [],
   "source": []
  }
 ],
 "metadata": {
  "kernelspec": {
   "display_name": "Python 3 (ipykernel)",
   "language": "python",
   "name": "python3"
  },
  "language_info": {
   "codemirror_mode": {
    "name": "ipython",
    "version": 3
   },
   "file_extension": ".py",
   "mimetype": "text/x-python",
   "name": "python",
   "nbconvert_exporter": "python",
   "pygments_lexer": "ipython3",
   "version": "3.8.13"
  },
  "vscode": {
   "interpreter": {
    "hash": "86341840eff849e5868e4e40e13a73c94dd818e69782a2c316fb6133ded41621"
   }
  }
 },
 "nbformat": 4,
 "nbformat_minor": 5
}
