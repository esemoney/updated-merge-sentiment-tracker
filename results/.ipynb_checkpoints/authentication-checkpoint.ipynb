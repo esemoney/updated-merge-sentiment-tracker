{
 "cells": [
  {
   "cell_type": "code",
   "execution_count": 1,
   "id": "aa63dc15",
   "metadata": {},
   "outputs": [],
   "source": [
    "import tweepy\n",
    "import os\n",
    "from dotenv import load_dotenv"
   ]
  },
  {
   "cell_type": "code",
   "execution_count": 2,
   "id": "10defc9e",
   "metadata": {},
   "outputs": [
    {
     "data": {
      "text/plain": [
       "True"
      ]
     },
     "execution_count": 2,
     "metadata": {},
     "output_type": "execute_result"
    }
   ],
   "source": [
    "load_dotenv()"
   ]
  },
  {
   "cell_type": "code",
   "execution_count": 3,
   "id": "268cc018",
   "metadata": {},
   "outputs": [],
   "source": [
    "#keys and tokens for api authentification\n",
    "CONSUMER_KEY = os.environ.get('CONSUMER_KEY')\n",
    "CONSUMER_SECRET = os.environ.get('CONSUMER_SECRET')\n",
    "ACCESS_KEY = os.environ.get('ACCESS_KEY') \n",
    "ACCESS_SECRET = os.environ.get('ACCESS_SECRET')"
   ]
  },
  {
   "cell_type": "code",
   "execution_count": 4,
   "id": "8f80e1fd",
   "metadata": {},
   "outputs": [
    {
     "name": "stdout",
     "output_type": "stream",
     "text": [
      "Successful Authentication\n"
     ]
    }
   ],
   "source": [
    "auth = tweepy.OAuthHandler(CONSUMER_KEY, CONSUMER_SECRET)\n",
    "auth.set_access_token(ACCESS_KEY, ACCESS_SECRET)\n",
    "api = tweepy.API(auth)\n",
    "\n",
    "# verify that the authentification has been carried out properly\n",
    "try:\n",
    "    api.verify_credentials()\n",
    "    print('Successful Authentication')\n",
    "except:\n",
    "    print('Failed authentication')"
   ]
  }
 ],
 "metadata": {
  "kernelspec": {
   "display_name": "Python 3 (ipykernel)",
   "language": "python",
   "name": "python3"
  },
  "language_info": {
   "codemirror_mode": {
    "name": "ipython",
    "version": 3
   },
   "file_extension": ".py",
   "mimetype": "text/x-python",
   "name": "python",
   "nbconvert_exporter": "python",
   "pygments_lexer": "ipython3",
   "version": "3.8.13"
  }
 },
 "nbformat": 4,
 "nbformat_minor": 5
}
