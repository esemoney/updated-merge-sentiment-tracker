{
 "cells": [
  {
   "cell_type": "code",
   "execution_count": null,
   "id": "caff9ccd",
   "metadata": {},
   "outputs": [],
   "source": []
  },
  {
   "cell_type": "code",
   "execution_count": null,
   "id": "a8f3d1a6",
   "metadata": {},
   "outputs": [],
   "source": [
    "def opinion_words_txt2dict(opinion_words_file_path):\n",
    "    \"\"\"\n",
    "    Converts a txt file of opinion words into a Python dictionary.\n",
    "    Parameters:\n",
    "       opinion_words_file_path (string): Path where the txt file is located.\n",
    "    Returns:\n",
    "       opinion_words_dictionary (dict): Python dictionary containing the opinion words.  \n",
    "    \"\"\"\n",
    "    opinion_words_dictionary = dict()\n",
    "\n",
    "    with open(opinion_words_file_path, 'r') as of:\n",
    "        # we read the content of the file in the form of a list where each element is a line of the file\n",
    "        opinion_words = of.readlines()\n",
    "        # we iterate through each line of the file (a line contains an opinion word and its polarity)\n",
    "        for opinion_word in opinion_words:\n",
    "            word, polarity = opinion_word.strip().split('\\t')\n",
    "            # we add each opinion word and its polarity to the Python dictionary\n",
    "            opinion_words_dictionary[word] = int(polarity)\n",
    "            \n",
    "    return opinion_words_dictionary"
   ]
  }
 ],
 "metadata": {
  "kernelspec": {
   "display_name": "Python 3 (ipykernel)",
   "language": "python",
   "name": "python3"
  },
  "language_info": {
   "codemirror_mode": {
    "name": "ipython",
    "version": 3
   },
   "file_extension": ".py",
   "mimetype": "text/x-python",
   "name": "python",
   "nbconvert_exporter": "python",
   "pygments_lexer": "ipython3",
   "version": "3.8.13"
  }
 },
 "nbformat": 4,
 "nbformat_minor": 5
}
