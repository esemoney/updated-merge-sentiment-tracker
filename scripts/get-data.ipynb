{
 "cells": [
  {
   "cell_type": "code",
   "execution_count": null,
   "id": "ff767615",
   "metadata": {},
   "outputs": [],
   "source": [
    "# to check for tweets containing both \"ethereum\" and \"merge\"\n",
    "query = 'ethereum merge -filter:retweets'\n",
    "max_tweets = 1000\n",
    "# store the tweepy.Cursor response of each tweet in a list\n",
    "search_tweets = [tweet for tweet in tweepy.Cursor(api.search_tweets,\n",
    "                                                  q=query,\n",
    "                                                  lang='en',\n",
    "                                                  tweet_mode='extended').items(max_tweets)]\n",
    "\n",
    "# store the text of each tweet in a list\n",
    "merge_tweets = [tweet.full_text for tweet in search_tweets]\n",
    "print(merge_tweets)"
   ]
  }
 ],
 "metadata": {
  "kernelspec": {
   "display_name": "Python 3 (ipykernel)",
   "language": "python",
   "name": "python3"
  },
  "language_info": {
   "codemirror_mode": {
    "name": "ipython",
    "version": 3
   },
   "file_extension": ".py",
   "mimetype": "text/x-python",
   "name": "python",
   "nbconvert_exporter": "python",
   "pygments_lexer": "ipython3",
   "version": "3.8.13"
  }
 },
 "nbformat": 4,
 "nbformat_minor": 5
}
